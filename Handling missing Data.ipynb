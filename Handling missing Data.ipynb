{
 "cells": [
  {
   "cell_type": "code",
   "execution_count": 7,
   "metadata": {},
   "outputs": [
    {
     "data": {
      "text/html": [
       "        <script type=\"text/javascript\">\n",
       "        window.PlotlyConfig = {MathJaxConfig: 'local'};\n",
       "        if (window.MathJax) {MathJax.Hub.Config({SVG: {font: \"STIX-Web\"}});}\n",
       "        if (typeof require !== 'undefined') {\n",
       "        require.undef(\"plotly\");\n",
       "        requirejs.config({\n",
       "            paths: {\n",
       "                'plotly': ['https://cdn.plot.ly/plotly-latest.min']\n",
       "            }\n",
       "        });\n",
       "        require(['plotly'], function(Plotly) {\n",
       "            window._Plotly = Plotly;\n",
       "        });\n",
       "        }\n",
       "        </script>\n",
       "        "
      ]
     },
     "metadata": {},
     "output_type": "display_data"
    }
   ],
   "source": [
    "import numpy as np\n",
    "import pandas as pd\n",
    "import matplotlib.pyplot as plt\n",
    "\n",
    "import plotly.graph_objs as go\n",
    "from plotly.offline import download_plotlyjs, init_notebook_mode, plot, iplot\n",
    "init_notebook_mode(connected=True)"
   ]
  },
  {
   "cell_type": "code",
   "execution_count": 8,
   "metadata": {},
   "outputs": [],
   "source": [
    "df = pd.read_csv(\"Data_with_missing_values.csv\")"
   ]
  },
  {
   "cell_type": "code",
   "execution_count": 9,
   "metadata": {},
   "outputs": [
    {
     "data": {
      "text/plain": [
       "<bound method NDFrame.describe of    Country   Age   Salary Purchased\n",
       "0   France  44.0  72000.0        No\n",
       "1    Spain  27.0  48000.0       Yes\n",
       "2  Germany  30.0  54000.0        No\n",
       "3    Spain  38.0  61000.0        No\n",
       "4  Germany  40.0      NaN       Yes\n",
       "5   France  35.0  58000.0       Yes\n",
       "6    Spain   NaN  52000.0        No\n",
       "7   France  48.0  79000.0       Yes\n",
       "8  Germany  50.0  83000.0        No\n",
       "9   France  37.0  67000.0       Yes>"
      ]
     },
     "execution_count": 9,
     "metadata": {},
     "output_type": "execute_result"
    }
   ],
   "source": [
    "df.describe"
   ]
  },
  {
   "cell_type": "code",
   "execution_count": 10,
   "metadata": {},
   "outputs": [
    {
     "data": {
      "application/vnd.plotly.v1+json": {
       "config": {
        "linkText": "Export to plot.ly",
        "plotlyServerURL": "https://plot.ly",
        "showLink": false
       },
       "data": [
        {
         "type": "bar",
         "uid": "3e400e95-6db8-4d89-b974-98546c58c44b",
         "x": [
          44,
          27,
          30,
          38,
          40,
          35,
          null,
          48,
          50,
          37
         ],
         "y": [
          72000,
          48000,
          54000,
          61000,
          null,
          58000,
          52000,
          79000,
          83000,
          67000
         ]
        }
       ],
       "layout": {}
      },
      "text/html": [
       "<div>\n",
       "        \n",
       "        \n",
       "            <div id=\"ae50827f-2b0e-4bd1-9520-6018bcce8d2a\" class=\"plotly-graph-div\" style=\"height:525px; width:100%;\"></div>\n",
       "            <script type=\"text/javascript\">\n",
       "                require([\"plotly\"], function(Plotly) {\n",
       "                    window.PLOTLYENV=window.PLOTLYENV || {};\n",
       "                    window.PLOTLYENV.BASE_URL='https://plot.ly';\n",
       "                    \n",
       "                if (document.getElementById(\"ae50827f-2b0e-4bd1-9520-6018bcce8d2a\")) {\n",
       "                    Plotly.newPlot(\n",
       "                        'ae50827f-2b0e-4bd1-9520-6018bcce8d2a',\n",
       "                        [{\"type\": \"bar\", \"uid\": \"3e400e95-6db8-4d89-b974-98546c58c44b\", \"x\": [44.0, 27.0, 30.0, 38.0, 40.0, 35.0, null, 48.0, 50.0, 37.0], \"y\": [72000.0, 48000.0, 54000.0, 61000.0, null, 58000.0, 52000.0, 79000.0, 83000.0, 67000.0]}],\n",
       "                        {},\n",
       "                        {\"showLink\": false, \"linkText\": \"Export to plot.ly\", \"plotlyServerURL\": \"https://plot.ly\", \"responsive\": true}\n",
       "                    ).then(function(){\n",
       "                            \n",
       "var gd = document.getElementById('ae50827f-2b0e-4bd1-9520-6018bcce8d2a');\n",
       "var x = new MutationObserver(function (mutations, observer) {{\n",
       "        var display = window.getComputedStyle(gd).display;\n",
       "        if (!display || display === 'none') {{\n",
       "            console.log([gd, 'removed!']);\n",
       "            Plotly.purge(gd);\n",
       "            observer.disconnect();\n",
       "        }}\n",
       "}});\n",
       "\n",
       "// Listen for the removal of the full notebook cells\n",
       "var notebookContainer = gd.closest('#notebook-container');\n",
       "if (notebookContainer) {{\n",
       "    x.observe(notebookContainer, {childList: true});\n",
       "}}\n",
       "\n",
       "// Listen for the clearing of the current output cell\n",
       "var outputEl = gd.closest('.output');\n",
       "if (outputEl) {{\n",
       "    x.observe(outputEl, {childList: true});\n",
       "}}\n",
       "\n",
       "                        })\n",
       "                };\n",
       "                });\n",
       "            </script>\n",
       "        </div>"
      ]
     },
     "metadata": {},
     "output_type": "display_data"
    }
   ],
   "source": [
    "data = [go.Bar(\n",
    "            x= df.Age,\n",
    "            y= df.Salary\n",
    "    )]\n",
    "\n",
    "iplot(data, filename='basic-bar')"
   ]
  },
  {
   "cell_type": "markdown",
   "metadata": {},
   "source": [
    "# Imputing values"
   ]
  },
  {
   "cell_type": "code",
   "execution_count": 11,
   "metadata": {},
   "outputs": [],
   "source": [
    "from sklearn.impute import SimpleImputer"
   ]
  },
  {
   "cell_type": "code",
   "execution_count": 12,
   "metadata": {},
   "outputs": [],
   "source": [
    "def get_values(strateg):\n",
    "    all_vals = df[[\"Age\",\"Salary\"]].values\n",
    "    indexing = df.index\n",
    "    imp_mean = SimpleImputer(missing_values=np.nan, strategy=strateg)\n",
    "    transformed = imp_mean.fit_transform(all_vals)\n",
    "    gen_df = pd.DataFrame(data=transformed,index=indexing, columns=[\"Age\",\"Salary\"])\n",
    "    print(gen_df.iloc[4:7])"
   ]
  },
  {
   "cell_type": "markdown",
   "metadata": {},
   "source": [
    "## SimpleImputer"
   ]
  },
  {
   "cell_type": "markdown",
   "metadata": {},
   "source": [
    "### strategies"
   ]
  },
  {
   "cell_type": "markdown",
   "metadata": {},
   "source": [
    "If <b>“mean”</b>, then replace missing values using the mean along each column. Can only be used with numeric data. <br>\n",
    "If <b>“median”</b>, then replace missing values using the median along each column. Can only be used with numeric data. <br>\n",
    "If <b>“most_frequent”</b>, then replace missing using the most frequent value along each column. Can be used with strings or numeric data. <br>\n",
    "If <b>“constant”</b>, then replace missing values with fill_value. Can be used with strings or numeric data. <br>"
   ]
  },
  {
   "cell_type": "code",
   "execution_count": 214,
   "metadata": {},
   "outputs": [],
   "source": [
    "strategies = [\"mean\",\"median\",\"most_frequent\",\"constant\"]"
   ]
  },
  {
   "cell_type": "code",
   "execution_count": 218,
   "metadata": {},
   "outputs": [
    {
     "name": "stdout",
     "output_type": "stream",
     "text": [
      "#### mean ####\n",
      "         Age        Salary\n",
      "4  40.000000  63777.777778\n",
      "5  35.000000  58000.000000\n",
      "6  38.777778  52000.000000\n",
      "#### median ####\n",
      "    Age   Salary\n",
      "4  40.0  61000.0\n",
      "5  35.0  58000.0\n",
      "6  38.0  52000.0\n",
      "#### most_frequent ####\n",
      "    Age   Salary\n",
      "4  40.0  48000.0\n",
      "5  35.0  58000.0\n",
      "6  27.0  52000.0\n",
      "#### constant ####\n",
      "    Age   Salary\n",
      "4  40.0      0.0\n",
      "5  35.0  58000.0\n",
      "6   0.0  52000.0\n"
     ]
    }
   ],
   "source": [
    "for st in strategies:\n",
    "    print(\"#### \"+st+\" ####\")\n",
    "    get_values(st)"
   ]
  },
  {
   "cell_type": "markdown",
   "metadata": {},
   "source": [
    "## Imputation Using k-NN"
   ]
  },
  {
   "cell_type": "markdown",
   "metadata": {},
   "source": [
    "The algorithm uses ‘feature similarity’ to predict the values of any new data points."
   ]
  },
  {
   "cell_type": "markdown",
   "metadata": {},
   "source": [
    "### Impyute"
   ]
  },
  {
   "cell_type": "markdown",
   "metadata": {},
   "source": [
    "Impyute is a library of missing data imputation"
   ]
  },
  {
   "cell_type": "code",
   "execution_count": 6,
   "metadata": {},
   "outputs": [
    {
     "name": "stdout",
     "output_type": "stream",
     "text": [
      "[[5.53153275 1.93401272 0.97374856 5.13780234 5.74554259]\n",
      " [1.63072537 2.97046276 1.48737362 3.34463464 4.79803188]\n",
      " [0.11645817 5.55819866        nan 1.78948356 5.49869344]\n",
      " [5.42678129 1.10840752 5.65593805 1.87969125        nan]\n",
      " [3.92309052 3.93869846        nan 1.22286186 5.79338009]]\n",
      "##\n",
      "[[5.53153275 1.93401272 0.97374856 5.13780234 5.74554259]\n",
      " [1.63072537 2.97046276 1.48737362 3.34463464 4.79803188]\n",
      " [0.11645817 5.55819866 2.70568674 1.78948356 5.49869344]\n",
      " [5.42678129 1.10840752 5.65593805 1.87969125 5.458912  ]\n",
      " [3.92309052 3.93869846 2.70568674 1.22286186 5.79338009]]\n"
     ]
    }
   ],
   "source": [
    "import impyute as impy\n",
    "n = 5\n",
    "arr = np.random.uniform(high=6, size=(n, n))\n",
    "for _ in range(3):\n",
    "    arr[np.random.randint(n), np.random.randint(n)] = np.nan\n",
    "print(arr)\n",
    "print(\"##\")\n",
    "print(impy.mean(arr))"
   ]
  },
  {
   "cell_type": "markdown",
   "metadata": {},
   "source": [
    "#### impyute funcitons"
   ]
  },
  {
   "cell_type": "markdown",
   "metadata": {},
   "source": [
    "Imputation of Cross Sectional Data\n",
    "<ul>\n",
    "<li>K-Nearest Neighbours\n",
    "<li>Multivariate Imputation by Chained Equations\n",
    "<li>Expectation Maximization\n",
    "<li>Mean Imputation\n",
    "<li>Mode Imputation\n",
    "<li>Median Imputation\n",
    "<li>Random Imputation\n",
    "</ul>"
   ]
  },
  {
   "cell_type": "markdown",
   "metadata": {},
   "source": [
    "## Imputation Using k-NN"
   ]
  },
  {
   "cell_type": "code",
   "execution_count": 54,
   "metadata": {},
   "outputs": [
    {
     "data": {
      "text/plain": [
       "array([[4.40000000e+01, 7.20000000e+04],\n",
       "       [2.70000000e+01, 4.80000000e+04],\n",
       "       [3.00000000e+01, 5.40000000e+04],\n",
       "       [3.80000000e+01, 6.10000000e+04],\n",
       "       [4.00000000e+01, 6.54648901e+04],\n",
       "       [3.50000000e+01, 5.80000000e+04],\n",
       "       [4.35061795e+01, 5.20000000e+04],\n",
       "       [4.80000000e+01, 7.90000000e+04],\n",
       "       [5.00000000e+01, 8.30000000e+04],\n",
       "       [3.70000000e+01, 6.70000000e+04]])"
      ]
     },
     "execution_count": 54,
     "metadata": {},
     "output_type": "execute_result"
    }
   ],
   "source": [
    "import sys\n",
    "from impyute.imputation.cs import fast_knn\n",
    "# start the KNN training\n",
    "all_vals = df[[\"Age\",\"Salary\"]].values\n",
    "imputed_training=fast_knn(all_vals, k=9) # max  is lengh of the bumber of the array's rows\n",
    "imputed_training"
   ]
  },
  {
   "cell_type": "markdown",
   "metadata": {},
   "source": [
    "## Imputation Using Multivariate Imputation by Chained Equation (MICE)"
   ]
  },
  {
   "cell_type": "code",
   "execution_count": 58,
   "metadata": {},
   "outputs": [
    {
     "data": {
      "image/png": "[encoded data removed]",
      "text/plain": [
       "<IPython.core.display.Image object>"
      ]
     },
     "execution_count": 58,
     "metadata": {},
     "output_type": "execute_result"
    }
   ],
   "source": [
    "from IPython.display import Image\n",
    "Image(filename='mice.png')"
   ]
  },
  {
   "cell_type": "markdown",
   "metadata": {},
   "source": [
    "This type of imputation works by filling the missing data multiple times. Multiple Imputations (MIs) are much better than a single imputation as it measures the uncertainty of the missing values in a better way. "
   ]
  },
  {
   "cell_type": "code",
   "execution_count": 60,
   "metadata": {},
   "outputs": [
    {
     "name": "stderr",
     "output_type": "stream",
     "text": [
      "/usr/local/lib/python3.7/site-packages/sklearn/linear_model/base.py:485: RuntimeWarning:\n",
      "\n",
      "internal gelsd driver lwork query error, required iwork dimension not returned. This is likely the result of LAPACK bug 0038, fixed in LAPACK 3.2.2 (released July 21, 2010). Falling back to 'gelss' driver.\n",
      "\n"
     ]
    },
    {
     "data": {
      "text/plain": [
       "array([[4.40000000e+01, 7.20000000e+04],\n",
       "       [2.70000000e+01, 4.80000000e+04],\n",
       "       [3.00000000e+01, 5.40000000e+04],\n",
       "       [3.80000000e+01, 6.10000000e+04],\n",
       "       [4.00000000e+01, 6.72145199e+04],\n",
       "       [3.50000000e+01, 5.80000000e+04],\n",
       "       [2.98946474e+01, 5.20000000e+04],\n",
       "       [4.80000000e+01, 7.90000000e+04],\n",
       "       [5.00000000e+01, 8.30000000e+04],\n",
       "       [3.70000000e+01, 6.70000000e+04]])"
      ]
     },
     "execution_count": 60,
     "metadata": {},
     "output_type": "execute_result"
    }
   ],
   "source": [
    "from impyute.imputation.cs import mice\n",
    "# start the MICE training\n",
    "imputed_training=mice(all_vals)\n",
    "imputed_training"
   ]
  },
  {
   "cell_type": "markdown",
   "metadata": {},
   "source": [
    "# interpolation"
   ]
  },
  {
   "cell_type": "markdown",
   "metadata": {},
   "source": [
    "method : {‘linear’, ‘time’, ‘index’, ‘values’, ‘nearest’, ‘zero’, ‘slinear’, ‘quadratic’, ‘cubic’, ‘barycentric’, ‘krogh’, ‘polynomial’, ‘spline’, ‘piecewise_polynomial’, ‘from_derivatives’, ‘pchip’, ‘akima’}"
   ]
  },
  {
   "cell_type": "markdown",
   "metadata": {},
   "source": [
    "<b>linear : </b> If the two known points are given by the coordinates, the linear interpolant is the straight line between these points. For a value x in the interval, the value y along the straight line is given from the equation of slopes."
   ]
  },
  {
   "cell_type": "code",
   "execution_count": 146,
   "metadata": {},
   "outputs": [],
   "source": [
    "Methods = [\"linear\",\"index\",\"values\",\"nearest\",\"zero\",\"slinear\",\"quadratic\",\"cubic\",\n",
    "           \"barycentric\",\"krogh\",\"piecewise_polynomial\",\"from_derivatives\",\"pchip\",\"akima\"]\n",
    "# \"time\" only works on Series or DataFrames with a DatetimeIndex\n",
    "# \"polynomial\"\n",
    "#  spline\""
   ]
  },
  {
   "cell_type": "code",
   "execution_count": 147,
   "metadata": {},
   "outputs": [
    {
     "name": "stdout",
     "output_type": "stream",
     "text": [
      "#### linear ####\n",
      "   Country   Age   Salary Purchased\n",
      "4  Germany  40.0  59500.0       Yes\n",
      "5   France  35.0  58000.0       Yes\n",
      "6    Spain  41.5  52000.0        No\n",
      "#### index ####\n",
      "   Country   Age   Salary Purchased\n",
      "4  Germany  40.0  59500.0       Yes\n",
      "5   France  35.0  58000.0       Yes\n",
      "6    Spain  41.5  52000.0        No\n",
      "#### values ####\n",
      "   Country   Age   Salary Purchased\n",
      "4  Germany  40.0  59500.0       Yes\n",
      "5   France  35.0  58000.0       Yes\n",
      "6    Spain  41.5  52000.0        No\n",
      "#### nearest ####\n",
      "   Country   Age   Salary Purchased\n",
      "4  Germany  40.0  61000.0       Yes\n",
      "5   France  35.0  58000.0       Yes\n",
      "6    Spain  35.0  52000.0        No\n",
      "#### zero ####\n",
      "   Country   Age   Salary Purchased\n",
      "4  Germany  40.0  61000.0       Yes\n",
      "5   France  35.0  58000.0       Yes\n",
      "6    Spain  35.0  52000.0        No\n",
      "#### slinear ####\n",
      "   Country   Age   Salary Purchased\n",
      "4  Germany  40.0  59500.0       Yes\n",
      "5   France  35.0  58000.0       Yes\n",
      "6    Spain  41.5  52000.0        No\n",
      "#### quadratic ####\n",
      "   Country        Age        Salary Purchased\n",
      "4  Germany  40.000000  62951.930932       Yes\n",
      "5   France  35.000000  58000.000000       Yes\n",
      "6    Spain  39.620828  52000.000000        No\n",
      "#### cubic ####\n",
      "   Country        Age        Salary Purchased\n",
      "4  Germany  40.000000  63787.255466       Yes\n",
      "5   France  35.000000  58000.000000       Yes\n",
      "6    Spain  39.318449  52000.000000        No\n",
      "#### barycentric ####\n",
      "   Country        Age        Salary Purchased\n",
      "4  Germany  40.000000  68603.174603       Yes\n",
      "5   France  35.000000  58000.000000       Yes\n",
      "6    Spain  35.666667  52000.000000        No\n",
      "#### krogh ####\n",
      "   Country        Age        Salary Purchased\n",
      "4  Germany  40.000000  68603.174603       Yes\n",
      "5   France  35.000000  58000.000000       Yes\n",
      "6    Spain  35.666667  52000.000000        No\n",
      "#### piecewise_polynomial ####\n",
      "   Country   Age   Salary Purchased\n",
      "4  Germany  40.0  59500.0       Yes\n",
      "5   France  35.0  58000.0       Yes\n",
      "6    Spain  41.5  52000.0        No\n",
      "#### from_derivatives ####\n",
      "   Country   Age   Salary Purchased\n",
      "4  Germany  40.0  59500.0       Yes\n",
      "5   France  35.0  58000.0       Yes\n",
      "6    Spain  41.5  52000.0        No\n",
      "#### pchip ####\n",
      "   Country        Age        Salary Purchased\n",
      "4  Germany  40.000000  60142.857143       Yes\n",
      "5   France  35.000000  58000.000000       Yes\n",
      "6    Spain  40.777778  52000.000000        No\n",
      "#### akima ####\n",
      "   Country        Age       Salary Purchased\n",
      "4  Germany  40.000000  61469.05805       Yes\n",
      "5   France  35.000000  58000.00000       Yes\n",
      "6    Spain  40.863208  52000.00000        No\n"
     ]
    }
   ],
   "source": [
    "for m in Methods:\n",
    "    print(\"#### \"+ m + \" ####\")\n",
    "    print(df.interpolate(method =m, limit_direction ='forward')[4:7])"
   ]
  },
  {
   "cell_type": "code",
   "execution_count": null,
   "metadata": {},
   "outputs": [],
   "source": []
  }
 ],
 "metadata": {
  "kernelspec": {
   "display_name": "Python 3",
   "language": "python",
   "name": "python3"
  },
  "language_info": {
   "codemirror_mode": {
    "name": "ipython",
    "version": 3
   },
   "file_extension": ".py",
   "mimetype": "text/x-python",
   "name": "python",
   "nbconvert_exporter": "python",
   "pygments_lexer": "ipython3",
   "version": "3.7.3"
  }
 },
 "nbformat": 4,
 "nbformat_minor": 2
}
